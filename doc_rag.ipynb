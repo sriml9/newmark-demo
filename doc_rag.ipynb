{
 "cells": [
  {
   "attachments": {},
   "cell_type": "markdown",
   "metadata": {},
   "source": [
    "# RAG: Data Ingestion and Retrieval for complex documents\n",
    "\n",
    "\n",
    "<img src=\"arch.png\" width=500px>"
   ]
  },
  {
   "cell_type": "code",
   "execution_count": 1,
   "metadata": {},
   "outputs": [],
   "source": [
    "import time\n",
    "from typing import List, Optional, Union\n",
    "\n",
    "from langchain_community.chat_models import ChatOllama\n",
    "from langchain_core.output_parsers import StrOutputParser\n",
    "from langchain_core.prompts import ChatPromptTemplate\n",
    "from retriever import (\n",
    "    create_parent_retriever,\n",
    "    load_embedding_model,\n",
    "    load_pdf,\n",
    "    load_reranker_model,\n",
    "    retrieve_context,\n",
    ")\n",
    "from rich import print"
   ]
  },
  {
   "attachments": {},
   "cell_type": "markdown",
   "metadata": {},
   "source": [
    "Load PDF documents and create retriever"
   ]
  },
  {
   "cell_type": "code",
   "execution_count": 2,
   "metadata": {},
   "outputs": [],
   "source": [
    "files = [\n",
    "    \"example_data/nw1.pdf\",\n",
    "    \"example_data/nw2.pdf\",\n",
    "      # DocLLM paper\n",
    "]\n",
    "\n",
    "docs = load_pdf(files=files)\n",
    "\n",
    "embedding_model = load_embedding_model()\n",
    "retriever = create_parent_retriever(docs, embedding_model)\n",
    "reranker_model = load_reranker_model()"
   ]
  },
  {
   "attachments": {},
   "cell_type": "markdown",
   "metadata": {},
   "source": [
    "Initialize Langchain's Ollama Chat API integration using `mistral` model and create the chain with prompt template."
   ]
  },
  {
   "cell_type": "code",
   "execution_count": 23,
   "metadata": {},
   "outputs": [],
   "source": [
    "llm = ChatOllama(model=\"orca2\", temperature=0)\n",
    "prompt_template = ChatPromptTemplate.from_template(\n",
    "    (\n",
    "        \"Please answer the following question based on the provided `context` that follows the question and answer it directly.\\n\"\n",
    "        \"If you do not know the answer then just say 'I do not know'\\n\"\n",
    "        \"question: {question}\\n\"\n",
    "        \"context: ```{context}```\\n\"\n",
    "    )\n",
    ")\n",
    "chain = prompt_template | llm | StrOutputParser()"
   ]
  },
  {
   "attachments": {},
   "cell_type": "markdown",
   "metadata": {},
   "source": [
    "Retrieve document and run the chain using `context` and `question`."
   ]
  },
  {
   "cell_type": "code",
   "execution_count": 31,
   "metadata": {},
   "outputs": [],
   "source": [
    "# Run through some sample queries\n",
    "samples = [\n",
    "    \"How many properties available for investment\",\n",
    "    \"What is the available rentable area 1401 N Casaloma Dr, Appleton, WI\",\n",
    "    \"Summarize the demographics at Appleton location\",\n",
    "    \"Which property I should invest from all the properties available o make profit?\"\n",
    "]"
   ]
  },
  {
   "cell_type": "code",
   "execution_count": 32,
   "metadata": {},
   "outputs": [
    {
     "data": {
      "text/html": [
       "<pre style=\"white-space:pre;overflow-x:auto;line-height:normal;font-family:Menlo,'DejaVu Sans Mono',consolas,'Courier New',monospace\">How many properties available for investment\n",
       "</pre>\n"
      ],
      "text/plain": [
       "How many properties available for investment\n"
      ]
     },
     "metadata": {},
     "output_type": "display_data"
    },
    {
     "data": {
      "text/html": [
       "<pre style=\"white-space:pre;overflow-x:auto;line-height:normal;font-family:Menlo,'DejaVu Sans Mono',consolas,'Courier New',monospace\">LLM Response: To answer the question based on the provided context, we need to identify what kind of properties are\n",
       "available for investment and how many of them are in the Appleton Metro area. We can use the following steps:\n",
       "\n",
       "- First, we need to understand that the context is a description of two investment opportunities: one is a \n",
       "franchise opportunity with Anytime Fitness, which is a fitness gym business, and the other is a NNN <span style=\"font-weight: bold\">(</span>National \n",
       "Retail Properties<span style=\"font-weight: bold\">)</span> investment opportunity, which is a net lease property.\n",
       "- Second, we need to count how many of each type of property are listed in the context. For the franchise \n",
       "opportunity, we can see that there are two locations with different addresses: one is <span style=\"color: #008080; text-decoration-color: #008080; font-weight: bold\">54915</span> and the other is <span style=\"color: #008080; text-decoration-color: #008080; font-weight: bold\">54913</span>.\n",
       "For the NNN investment opportunity, we can see that there is only one location given: Appleton Metro.\n",
       "- Third, we need to add up the number of properties for each type of investment and compare them with the question,\n",
       "which asks how many properties are available for investment. We can see that there are two franchise locations and \n",
       "one NNN property in total, so the answer is three properties.\n",
       "\n",
       "### Final answer: Three properties\n",
       "</pre>\n"
      ],
      "text/plain": [
       "LLM Response: To answer the question based on the provided context, we need to identify what kind of properties are\n",
       "available for investment and how many of them are in the Appleton Metro area. We can use the following steps:\n",
       "\n",
       "- First, we need to understand that the context is a description of two investment opportunities: one is a \n",
       "franchise opportunity with Anytime Fitness, which is a fitness gym business, and the other is a NNN \u001b[1m(\u001b[0mNational \n",
       "Retail Properties\u001b[1m)\u001b[0m investment opportunity, which is a net lease property.\n",
       "- Second, we need to count how many of each type of property are listed in the context. For the franchise \n",
       "opportunity, we can see that there are two locations with different addresses: one is \u001b[1;36m54915\u001b[0m and the other is \u001b[1;36m54913\u001b[0m.\n",
       "For the NNN investment opportunity, we can see that there is only one location given: Appleton Metro.\n",
       "- Third, we need to add up the number of properties for each type of investment and compare them with the question,\n",
       "which asks how many properties are available for investment. We can see that there are two franchise locations and \n",
       "one NNN property in total, so the answer is three properties.\n",
       "\n",
       "### Final answer: Three properties\n"
      ]
     },
     "metadata": {},
     "output_type": "display_data"
    },
    {
     "data": {
      "text/html": [
       "<pre style=\"white-space:pre;overflow-x:auto;line-height:normal;font-family:Menlo,'DejaVu Sans Mono',consolas,'Courier New',monospace\">\n",
       " ==================================================================================================== \n",
       "\n",
       "\n",
       "</pre>\n"
      ],
      "text/plain": [
       "\n",
       " ==================================================================================================== \n",
       "\n",
       "\n"
      ]
     },
     "metadata": {},
     "output_type": "display_data"
    },
    {
     "data": {
      "text/html": [
       "<pre style=\"white-space:pre;overflow-x:auto;line-height:normal;font-family:Menlo,'DejaVu Sans Mono',consolas,'Courier New',monospace\">What is the available rentable area <span style=\"color: #008080; text-decoration-color: #008080; font-weight: bold\">1401</span> N Casaloma Dr, Appleton, WI\n",
       "</pre>\n"
      ],
      "text/plain": [
       "What is the available rentable area \u001b[1;36m1401\u001b[0m N Casaloma Dr, Appleton, WI\n"
      ]
     },
     "metadata": {},
     "output_type": "display_data"
    },
    {
     "data": {
      "text/html": [
       "<pre style=\"white-space:pre;overflow-x:auto;line-height:normal;font-family:Menlo,'DejaVu Sans Mono',consolas,'Courier New',monospace\">LLM Response: To answer the question based on the context, we need to find the information that relates to the \n",
       "rentable area of <span style=\"color: #008080; text-decoration-color: #008080; font-weight: bold\">1401</span> N Casaloma Dr, Appleton, WI. We can scan the context for keywords such as <span style=\"color: #008000; text-decoration-color: #008000\">\"rentable area\"</span>, \n",
       "<span style=\"color: #008000; text-decoration-color: #008000\">\"square feet\"</span> or <span style=\"color: #008000; text-decoration-color: #008000\">\"SF\"</span>. We can also look at the property overview section, which usually summarizes the main \n",
       "features of a property.\n",
       "\n",
       "We find that the property overview section has the following line: ±<span style=\"color: #008080; text-decoration-color: #008080; font-weight: bold\">7</span>,<span style=\"color: #008080; text-decoration-color: #008080; font-weight: bold\">609</span> SF Rentable Area. This means that the \n",
       "rentable area of <span style=\"color: #008080; text-decoration-color: #008080; font-weight: bold\">1401</span> N Casaloma Dr, Appleton, WI is approximately <span style=\"color: #008080; text-decoration-color: #008080; font-weight: bold\">7</span>,<span style=\"color: #008080; text-decoration-color: #008080; font-weight: bold\">609</span> square feet. We can also check the \n",
       "building photos section to verify this information, as it might show a sign or a plaque with the rentable area on \n",
       "the property.\n",
       "\n",
       "### Final answer: The available rentable area of <span style=\"color: #008080; text-decoration-color: #008080; font-weight: bold\">1401</span> N Casaloma Dr, Appleton, WI is approximately <span style=\"color: #008080; text-decoration-color: #008080; font-weight: bold\">7</span>,<span style=\"color: #008080; text-decoration-color: #008080; font-weight: bold\">609</span> square \n",
       "feet.\n",
       "</pre>\n"
      ],
      "text/plain": [
       "LLM Response: To answer the question based on the context, we need to find the information that relates to the \n",
       "rentable area of \u001b[1;36m1401\u001b[0m N Casaloma Dr, Appleton, WI. We can scan the context for keywords such as \u001b[32m\"rentable area\"\u001b[0m, \n",
       "\u001b[32m\"square feet\"\u001b[0m or \u001b[32m\"SF\"\u001b[0m. We can also look at the property overview section, which usually summarizes the main \n",
       "features of a property.\n",
       "\n",
       "We find that the property overview section has the following line: ±\u001b[1;36m7\u001b[0m,\u001b[1;36m609\u001b[0m SF Rentable Area. This means that the \n",
       "rentable area of \u001b[1;36m1401\u001b[0m N Casaloma Dr, Appleton, WI is approximately \u001b[1;36m7\u001b[0m,\u001b[1;36m609\u001b[0m square feet. We can also check the \n",
       "building photos section to verify this information, as it might show a sign or a plaque with the rentable area on \n",
       "the property.\n",
       "\n",
       "### Final answer: The available rentable area of \u001b[1;36m1401\u001b[0m N Casaloma Dr, Appleton, WI is approximately \u001b[1;36m7\u001b[0m,\u001b[1;36m609\u001b[0m square \n",
       "feet.\n"
      ]
     },
     "metadata": {},
     "output_type": "display_data"
    },
    {
     "data": {
      "text/html": [
       "<pre style=\"white-space:pre;overflow-x:auto;line-height:normal;font-family:Menlo,'DejaVu Sans Mono',consolas,'Courier New',monospace\">\n",
       " ==================================================================================================== \n",
       "\n",
       "\n",
       "</pre>\n"
      ],
      "text/plain": [
       "\n",
       " ==================================================================================================== \n",
       "\n",
       "\n"
      ]
     },
     "metadata": {},
     "output_type": "display_data"
    },
    {
     "data": {
      "text/html": [
       "<pre style=\"white-space:pre;overflow-x:auto;line-height:normal;font-family:Menlo,'DejaVu Sans Mono',consolas,'Courier New',monospace\">Summarize the demographics at Appleton location\n",
       "</pre>\n"
      ],
      "text/plain": [
       "Summarize the demographics at Appleton location\n"
      ]
     },
     "metadata": {},
     "output_type": "display_data"
    },
    {
     "data": {
      "text/html": [
       "<pre style=\"white-space:pre;overflow-x:auto;line-height:normal;font-family:Menlo,'DejaVu Sans Mono',consolas,'Courier New',monospace\">LLM Response: To answer the question based on the context, I will follow these steps:\n",
       "\n",
       "- Identify the relevant section of the context that contains the demographics information. This is the section \n",
       "labeled <span style=\"color: #008000; text-decoration-color: #008000\">\"Demographics 1401 N Casaloma Dr, Appleton, WI\"</span>.\n",
       "- Extract the data from the section and organize it into a table or a list. For example:\n",
       "\n",
       "Population within <span style=\"color: #008080; text-decoration-color: #008080; font-weight: bold\">1</span> mile <span style=\"color: #008080; text-decoration-color: #008080; font-weight: bold\">7</span>,<span style=\"color: #008080; text-decoration-color: #008080; font-weight: bold\">715</span>\n",
       "Population within <span style=\"color: #008080; text-decoration-color: #008080; font-weight: bold\">3</span> miles <span style=\"color: #008080; text-decoration-color: #008080; font-weight: bold\">83</span>,<span style=\"color: #008080; text-decoration-color: #008080; font-weight: bold\">808</span>\n",
       "Population within <span style=\"color: #008080; text-decoration-color: #008080; font-weight: bold\">5</span> miles <span style=\"color: #008080; text-decoration-color: #008080; font-weight: bold\">206</span>,<span style=\"color: #008080; text-decoration-color: #008080; font-weight: bold\">245</span>\n",
       "Population within <span style=\"color: #008080; text-decoration-color: #008080; font-weight: bold\">10</span> minutes <span style=\"color: #008080; text-decoration-color: #008080; font-weight: bold\">112</span>,<span style=\"color: #008080; text-decoration-color: #008080; font-weight: bold\">732</span>\n",
       "Population within <span style=\"color: #008080; text-decoration-color: #008080; font-weight: bold\">15</span> minutes <span style=\"color: #008080; text-decoration-color: #008080; font-weight: bold\">7</span>,<span style=\"color: #008080; text-decoration-color: #008080; font-weight: bold\">997</span>\n",
       "Households within <span style=\"color: #008080; text-decoration-color: #008080; font-weight: bold\">1</span> mile <span style=\"color: #008080; text-decoration-color: #008080; font-weight: bold\">3</span>,<span style=\"color: #008080; text-decoration-color: #008080; font-weight: bold\">623</span>\n",
       "Households within <span style=\"color: #008080; text-decoration-color: #008080; font-weight: bold\">3</span> miles <span style=\"color: #008080; text-decoration-color: #008080; font-weight: bold\">35</span>,<span style=\"color: #008080; text-decoration-color: #008080; font-weight: bold\">362</span>\n",
       "Households within <span style=\"color: #008080; text-decoration-color: #008080; font-weight: bold\">5</span> miles <span style=\"color: #008080; text-decoration-color: #008080; font-weight: bold\">85</span>,<span style=\"color: #008080; text-decoration-color: #008080; font-weight: bold\">173</span>\n",
       "Median HH Income within <span style=\"color: #008080; text-decoration-color: #008080; font-weight: bold\">1</span> mile $<span style=\"color: #008080; text-decoration-color: #008080; font-weight: bold\">60</span>,<span style=\"color: #008080; text-decoration-color: #008080; font-weight: bold\">050</span>\n",
       "Median HH Income within <span style=\"color: #008080; text-decoration-color: #008080; font-weight: bold\">3</span> miles $<span style=\"color: #008080; text-decoration-color: #008080; font-weight: bold\">61</span>,<span style=\"color: #008080; text-decoration-color: #008080; font-weight: bold\">948</span>\n",
       "Median HH Income within <span style=\"color: #008080; text-decoration-color: #008080; font-weight: bold\">5</span> miles $<span style=\"color: #008080; text-decoration-color: #008080; font-weight: bold\">61</span>,<span style=\"color: #008080; text-decoration-color: #008080; font-weight: bold\">533</span>\n",
       "Employees within <span style=\"color: #008080; text-decoration-color: #008080; font-weight: bold\">10</span> minutes <span style=\"color: #008080; text-decoration-color: #008080; font-weight: bold\">82</span>,<span style=\"color: #008080; text-decoration-color: #008080; font-weight: bold\">484</span>\n",
       "Employees within <span style=\"color: #008080; text-decoration-color: #008080; font-weight: bold\">15</span> minutes <span style=\"color: #008080; text-decoration-color: #008080; font-weight: bold\">75</span>,<span style=\"color: #008080; text-decoration-color: #008080; font-weight: bold\">045</span>\n",
       "Employees within <span style=\"color: #008080; text-decoration-color: #008080; font-weight: bold\">15</span> miles <span style=\"color: #008080; text-decoration-color: #008080; font-weight: bold\">137</span>,<span style=\"color: #008080; text-decoration-color: #008080; font-weight: bold\">747</span>\n",
       "\n",
       "- Summarize the demographics at Appleton location by using the data from the table or list. For example:\n",
       "\n",
       "The demographics at Appleton location are mostly concentrated within a <span style=\"color: #008080; text-decoration-color: #008080; font-weight: bold\">5</span> mile radius, with a population of <span style=\"color: #008080; text-decoration-color: #008080; font-weight: bold\">206</span>,<span style=\"color: #008080; text-decoration-color: #008080; font-weight: bold\">245</span> \n",
       "and a median household income of $<span style=\"color: #008080; text-decoration-color: #008080; font-weight: bold\">61</span>,<span style=\"color: #008080; text-decoration-color: #008080; font-weight: bold\">533</span>. The area has a high demand for employees, with over <span style=\"color: #008080; text-decoration-color: #008080; font-weight: bold\">137</span>,<span style=\"color: #008080; text-decoration-color: #008080; font-weight: bold\">000</span> workers \n",
       "living nearby. The nearest employment centers are within <span style=\"color: #008080; text-decoration-color: #008080; font-weight: bold\">15</span> minutes drive away.\n",
       "\n",
       "### Final answer: The demographics at Appleton location are mostly concentrated within a <span style=\"color: #008080; text-decoration-color: #008080; font-weight: bold\">5</span> mile radius, with a \n",
       "population of <span style=\"color: #008080; text-decoration-color: #008080; font-weight: bold\">206</span>,<span style=\"color: #008080; text-decoration-color: #008080; font-weight: bold\">245</span> and a median household income of $<span style=\"color: #008080; text-decoration-color: #008080; font-weight: bold\">61</span>,<span style=\"color: #008080; text-decoration-color: #008080; font-weight: bold\">533</span>.\n",
       "</pre>\n"
      ],
      "text/plain": [
       "LLM Response: To answer the question based on the context, I will follow these steps:\n",
       "\n",
       "- Identify the relevant section of the context that contains the demographics information. This is the section \n",
       "labeled \u001b[32m\"Demographics 1401 N Casaloma Dr, Appleton, WI\"\u001b[0m.\n",
       "- Extract the data from the section and organize it into a table or a list. For example:\n",
       "\n",
       "Population within \u001b[1;36m1\u001b[0m mile \u001b[1;36m7\u001b[0m,\u001b[1;36m715\u001b[0m\n",
       "Population within \u001b[1;36m3\u001b[0m miles \u001b[1;36m83\u001b[0m,\u001b[1;36m808\u001b[0m\n",
       "Population within \u001b[1;36m5\u001b[0m miles \u001b[1;36m206\u001b[0m,\u001b[1;36m245\u001b[0m\n",
       "Population within \u001b[1;36m10\u001b[0m minutes \u001b[1;36m112\u001b[0m,\u001b[1;36m732\u001b[0m\n",
       "Population within \u001b[1;36m15\u001b[0m minutes \u001b[1;36m7\u001b[0m,\u001b[1;36m997\u001b[0m\n",
       "Households within \u001b[1;36m1\u001b[0m mile \u001b[1;36m3\u001b[0m,\u001b[1;36m623\u001b[0m\n",
       "Households within \u001b[1;36m3\u001b[0m miles \u001b[1;36m35\u001b[0m,\u001b[1;36m362\u001b[0m\n",
       "Households within \u001b[1;36m5\u001b[0m miles \u001b[1;36m85\u001b[0m,\u001b[1;36m173\u001b[0m\n",
       "Median HH Income within \u001b[1;36m1\u001b[0m mile $\u001b[1;36m60\u001b[0m,\u001b[1;36m050\u001b[0m\n",
       "Median HH Income within \u001b[1;36m3\u001b[0m miles $\u001b[1;36m61\u001b[0m,\u001b[1;36m948\u001b[0m\n",
       "Median HH Income within \u001b[1;36m5\u001b[0m miles $\u001b[1;36m61\u001b[0m,\u001b[1;36m533\u001b[0m\n",
       "Employees within \u001b[1;36m10\u001b[0m minutes \u001b[1;36m82\u001b[0m,\u001b[1;36m484\u001b[0m\n",
       "Employees within \u001b[1;36m15\u001b[0m minutes \u001b[1;36m75\u001b[0m,\u001b[1;36m045\u001b[0m\n",
       "Employees within \u001b[1;36m15\u001b[0m miles \u001b[1;36m137\u001b[0m,\u001b[1;36m747\u001b[0m\n",
       "\n",
       "- Summarize the demographics at Appleton location by using the data from the table or list. For example:\n",
       "\n",
       "The demographics at Appleton location are mostly concentrated within a \u001b[1;36m5\u001b[0m mile radius, with a population of \u001b[1;36m206\u001b[0m,\u001b[1;36m245\u001b[0m \n",
       "and a median household income of $\u001b[1;36m61\u001b[0m,\u001b[1;36m533\u001b[0m. The area has a high demand for employees, with over \u001b[1;36m137\u001b[0m,\u001b[1;36m000\u001b[0m workers \n",
       "living nearby. The nearest employment centers are within \u001b[1;36m15\u001b[0m minutes drive away.\n",
       "\n",
       "### Final answer: The demographics at Appleton location are mostly concentrated within a \u001b[1;36m5\u001b[0m mile radius, with a \n",
       "population of \u001b[1;36m206\u001b[0m,\u001b[1;36m245\u001b[0m and a median household income of $\u001b[1;36m61\u001b[0m,\u001b[1;36m533\u001b[0m.\n"
      ]
     },
     "metadata": {},
     "output_type": "display_data"
    },
    {
     "data": {
      "text/html": [
       "<pre style=\"white-space:pre;overflow-x:auto;line-height:normal;font-family:Menlo,'DejaVu Sans Mono',consolas,'Courier New',monospace\">\n",
       " ==================================================================================================== \n",
       "\n",
       "\n",
       "</pre>\n"
      ],
      "text/plain": [
       "\n",
       " ==================================================================================================== \n",
       "\n",
       "\n"
      ]
     },
     "metadata": {},
     "output_type": "display_data"
    },
    {
     "data": {
      "text/html": [
       "<pre style=\"white-space:pre;overflow-x:auto;line-height:normal;font-family:Menlo,'DejaVu Sans Mono',consolas,'Courier New',monospace\">Which property I should invest from all the properties available o make profit?\n",
       "</pre>\n"
      ],
      "text/plain": [
       "Which property I should invest from all the properties available o make profit?\n"
      ]
     },
     "metadata": {},
     "output_type": "display_data"
    },
    {
     "data": {
      "text/html": [
       "<pre style=\"white-space:pre;overflow-x:auto;line-height:normal;font-family:Menlo,'DejaVu Sans Mono',consolas,'Courier New',monospace\">LLM Response: To answer the question based on the context, we need to do the following steps:\n",
       "\n",
       "- Identify the relevant information in the context that relates to the question\n",
       "- Compare and contrast the different properties available for investment\n",
       "- Evaluate the pros and cons of each property based on their location, market size, demand, competition, and profit\n",
       "potential\n",
       "- Choose the best property for investment based on the criteria and preferences of the user\n",
       "\n",
       "Based on these steps, we can answer the question as follows:\n",
       "\n",
       "The context provides information about two properties that are available for investment in the Appleton Metro area.\n",
       "They are:\n",
       "\n",
       "- Anytime Fitness gyms at <span style=\"color: #008080; text-decoration-color: #008080; font-weight: bold\">54915</span> and <span style=\"color: #008080; text-decoration-color: #008080; font-weight: bold\">54913</span>, which are franchise opportunities run by Bandon Fitness, a large and \n",
       "successful fitness company\n",
       "- NNN Investment Opportunity, which is a single-tenant net lease property with an unknown tenant and location\n",
       "\n",
       "To compare and contrast these properties, we can consider the following factors:\n",
       "\n",
       "- Location: The Anytime Fitness gyms are located in different areas of Appleton Metro, while the NNN Investment \n",
       "Opportunity does not specify where it is. This means that the Anytime Fitness gyms have more potential to reach a \n",
       "wider customer base and generate more revenue, but they also face more competition from other fitness centers and \n",
       "gyms in the area. The NNN Investment Opportunity may have less competition, but it also has more uncertainty about \n",
       "its tenant and location, which may affect its profitability and value.\n",
       "- Market size: The Anytime Fitness gyms are part of a global franchise with over three million members and <span style=\"color: #008080; text-decoration-color: #008080; font-weight: bold\">3</span>,<span style=\"color: #008080; text-decoration-color: #008080; font-weight: bold\">000</span> \n",
       "locations worldwide, while the NNN Investment Opportunity is not disclosed. This means that the Anytime Fitness \n",
       "gyms have more brand recognition and awareness, which may attract more customers and generate more revenue. The NNN\n",
       "Investment Opportunity may have a smaller or unknown market size, which may limit its potential and value.\n",
       "- Demand: The Anytime Fitness gyms cater to the health and fitness needs of people in Appleton Metro and beyond, \n",
       "while the NNN Investment Opportunity does not specify what kind of business it is. This means that the Anytime \n",
       "Fitness gyms have more demand from a diverse and growing segment of consumers, which may increase their occupancy \n",
       "rate and revenue. The NNN Investment Opportunity may have less demand from a specific or niche market, which may \n",
       "lower its occupancy rate and revenue.\n",
       "- Profit potential: The Anytime Fitness gyms are run by Bandon Fitness, a successful and experienced franchisee \n",
       "that has annual gross profits of over $<span style=\"color: #008080; text-decoration-color: #008080; font-weight: bold\">80</span> million and assets of over $<span style=\"color: #008080; text-decoration-color: #008080; font-weight: bold\">110</span> million, while the NNN Investment \n",
       "Opportunity is not disclosed. This means that the Anytime Fitness gyms have more profit potential from their \n",
       "high-quality service, brand recognition, and franchise support, which may increase their net income and value. The \n",
       "NNN Investment Opportunity may have less profit potential from its unknown tenant, location, and business model, \n",
       "which may decrease its net income and value.\n",
       "\n",
       "Based on these factors, we can evaluate the pros and cons of each property as follows:\n",
       "\n",
       "- Pros: The Anytime Fitness gyms are part of a global franchise with high market size, demand, and profit \n",
       "potential. They have the resources and support to run a successful business that makes a difference in people's \n",
       "lives. They offer a convenient and affordable recurring-revenue model for entrepreneurs who seek the opportunity to\n",
       "be their own boss and achieve a healthy work/life balance.\n",
       "- Cons: The Anytime Fitness gyms face more competition from other fitness centers and gyms in the area, which may \n",
       "affect their occupancy rate and revenue. They also have more uncertainty about their location, which may affect \n",
       "their visibility and accessibility to customers.\n",
       "- Pros: The NNN Investment Opportunity has less competition from its unknown tenant and location, which may \n",
       "increase its occupancy rate and revenue. It also has a smaller or unknown market size, which may limit its \n",
       "potential and value. However, it also faces more uncertainty about its business model, which may affect its \n",
       "profitability and value.\n",
       "- Cons: The NNN Investment Opportunity has less demand from a specific or niche market, which may lower its \n",
       "occupancy rate and revenue. It also has less profit potential from its unknown tenant, location, and business \n",
       "model, which may decrease its net income and value.\n",
       "\n",
       "Based on these evaluations, we can choose the best property for investment based on the criteria and preferences of\n",
       "the user. For example, if the user prefers a more stable and profitable investment with a global brand and a \n",
       "diverse customer base, then they may opt for the Anytime Fitness gyms. However, if the user is willing to take more\n",
       "risk and uncertainty for a potentially higher return on investment, then they may choose the NNN Investment \n",
       "Opportunity.\n",
       "\n",
       "### Final answer: The best property for investment depends on the user's criteria and preferences.\n",
       "</pre>\n"
      ],
      "text/plain": [
       "LLM Response: To answer the question based on the context, we need to do the following steps:\n",
       "\n",
       "- Identify the relevant information in the context that relates to the question\n",
       "- Compare and contrast the different properties available for investment\n",
       "- Evaluate the pros and cons of each property based on their location, market size, demand, competition, and profit\n",
       "potential\n",
       "- Choose the best property for investment based on the criteria and preferences of the user\n",
       "\n",
       "Based on these steps, we can answer the question as follows:\n",
       "\n",
       "The context provides information about two properties that are available for investment in the Appleton Metro area.\n",
       "They are:\n",
       "\n",
       "- Anytime Fitness gyms at \u001b[1;36m54915\u001b[0m and \u001b[1;36m54913\u001b[0m, which are franchise opportunities run by Bandon Fitness, a large and \n",
       "successful fitness company\n",
       "- NNN Investment Opportunity, which is a single-tenant net lease property with an unknown tenant and location\n",
       "\n",
       "To compare and contrast these properties, we can consider the following factors:\n",
       "\n",
       "- Location: The Anytime Fitness gyms are located in different areas of Appleton Metro, while the NNN Investment \n",
       "Opportunity does not specify where it is. This means that the Anytime Fitness gyms have more potential to reach a \n",
       "wider customer base and generate more revenue, but they also face more competition from other fitness centers and \n",
       "gyms in the area. The NNN Investment Opportunity may have less competition, but it also has more uncertainty about \n",
       "its tenant and location, which may affect its profitability and value.\n",
       "- Market size: The Anytime Fitness gyms are part of a global franchise with over three million members and \u001b[1;36m3\u001b[0m,\u001b[1;36m000\u001b[0m \n",
       "locations worldwide, while the NNN Investment Opportunity is not disclosed. This means that the Anytime Fitness \n",
       "gyms have more brand recognition and awareness, which may attract more customers and generate more revenue. The NNN\n",
       "Investment Opportunity may have a smaller or unknown market size, which may limit its potential and value.\n",
       "- Demand: The Anytime Fitness gyms cater to the health and fitness needs of people in Appleton Metro and beyond, \n",
       "while the NNN Investment Opportunity does not specify what kind of business it is. This means that the Anytime \n",
       "Fitness gyms have more demand from a diverse and growing segment of consumers, which may increase their occupancy \n",
       "rate and revenue. The NNN Investment Opportunity may have less demand from a specific or niche market, which may \n",
       "lower its occupancy rate and revenue.\n",
       "- Profit potential: The Anytime Fitness gyms are run by Bandon Fitness, a successful and experienced franchisee \n",
       "that has annual gross profits of over $\u001b[1;36m80\u001b[0m million and assets of over $\u001b[1;36m110\u001b[0m million, while the NNN Investment \n",
       "Opportunity is not disclosed. This means that the Anytime Fitness gyms have more profit potential from their \n",
       "high-quality service, brand recognition, and franchise support, which may increase their net income and value. The \n",
       "NNN Investment Opportunity may have less profit potential from its unknown tenant, location, and business model, \n",
       "which may decrease its net income and value.\n",
       "\n",
       "Based on these factors, we can evaluate the pros and cons of each property as follows:\n",
       "\n",
       "- Pros: The Anytime Fitness gyms are part of a global franchise with high market size, demand, and profit \n",
       "potential. They have the resources and support to run a successful business that makes a difference in people's \n",
       "lives. They offer a convenient and affordable recurring-revenue model for entrepreneurs who seek the opportunity to\n",
       "be their own boss and achieve a healthy work/life balance.\n",
       "- Cons: The Anytime Fitness gyms face more competition from other fitness centers and gyms in the area, which may \n",
       "affect their occupancy rate and revenue. They also have more uncertainty about their location, which may affect \n",
       "their visibility and accessibility to customers.\n",
       "- Pros: The NNN Investment Opportunity has less competition from its unknown tenant and location, which may \n",
       "increase its occupancy rate and revenue. It also has a smaller or unknown market size, which may limit its \n",
       "potential and value. However, it also faces more uncertainty about its business model, which may affect its \n",
       "profitability and value.\n",
       "- Cons: The NNN Investment Opportunity has less demand from a specific or niche market, which may lower its \n",
       "occupancy rate and revenue. It also has less profit potential from its unknown tenant, location, and business \n",
       "model, which may decrease its net income and value.\n",
       "\n",
       "Based on these evaluations, we can choose the best property for investment based on the criteria and preferences of\n",
       "the user. For example, if the user prefers a more stable and profitable investment with a global brand and a \n",
       "diverse customer base, then they may opt for the Anytime Fitness gyms. However, if the user is willing to take more\n",
       "risk and uncertainty for a potentially higher return on investment, then they may choose the NNN Investment \n",
       "Opportunity.\n",
       "\n",
       "### Final answer: The best property for investment depends on the user's criteria and preferences.\n"
      ]
     },
     "metadata": {},
     "output_type": "display_data"
    },
    {
     "data": {
      "text/html": [
       "<pre style=\"white-space:pre;overflow-x:auto;line-height:normal;font-family:Menlo,'DejaVu Sans Mono',consolas,'Courier New',monospace\">\n",
       " ==================================================================================================== \n",
       "\n",
       "\n",
       "</pre>\n"
      ],
      "text/plain": [
       "\n",
       " ==================================================================================================== \n",
       "\n",
       "\n"
      ]
     },
     "metadata": {},
     "output_type": "display_data"
    }
   ],
   "source": [
    "for query in samples:\n",
    "    print(query)\n",
    "    context = retrieve_context(\n",
    "        query, retriever=retriever, reranker_model=reranker_model\n",
    "    )[0]\n",
    "    output = chain.invoke({\"context\": context[0].page_content, \"question\": query})\n",
    "    print(\"LLM Response:\", output)\n",
    "\n",
    "    print(\"\\n\", \"=\" * 100, \"\\n\\n\")"
   ]
  },
  {
   "cell_type": "code",
   "execution_count": null,
   "metadata": {},
   "outputs": [],
   "source": []
  }
 ],
 "metadata": {
  "kernelspec": {
   "display_name": "Python 3",
   "language": "python",
   "name": "python3"
  },
  "language_info": {
   "codemirror_mode": {
    "name": "ipython",
    "version": 3
   },
   "file_extension": ".py",
   "mimetype": "text/x-python",
   "name": "python",
   "nbconvert_exporter": "python",
   "pygments_lexer": "ipython3",
   "version": "3.10.11"
  }
 },
 "nbformat": 4,
 "nbformat_minor": 4
}
